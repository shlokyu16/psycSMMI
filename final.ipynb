{
 "cells": [
  {
   "cell_type": "raw",
   "id": "eff61d69-e70b-427b-a90c-560017d70b8f",
   "metadata": {},
   "source": [
    "After data refining and processing, then experimenting few ai models to predict outcome\n",
    "This can be seen in experiment.ipynb\n",
    "In this notebook, all the code from experiment.ipynb would be efficiently written."
   ]
  },
  {
   "cell_type": "code",
   "execution_count": 23,
   "id": "aea4b6f7-4e27-43f0-bee2-7b20a5ebf707",
   "metadata": {},
   "outputs": [],
   "source": [
    "# Imports\n",
    "\n",
    "import pandas as pd\n",
    "import numpy as np\n",
    "import seaborn as sns\n",
    "import matplotlib.pyplot as plt\n",
    "from sklearn.model_selection import train_test_split\n",
    "from sklearn.neural_network import MLPClassifier\n",
    "from sklearn.metrics import accuracy_score  \n",
    "import joblib"
   ]
  },
  {
   "cell_type": "code",
   "execution_count": 24,
   "id": "71c65bbc-2699-4c9b-848b-3d2bd25df3d3",
   "metadata": {},
   "outputs": [],
   "source": [
    "# Rename function\n",
    "\n",
    "def rename(df):\n",
    "    df.rename(columns = {'1. What is your age?':'Age','2. Gender':'Sex','3. Relationship Status':'Relationship Status',\n",
    "       '4. Occupation Status':'Occupation',\n",
    "       '5. What type of organizations are you affiliated with?':'Affiliations',\n",
    "       '6. Do you use social media?':'Social Media User?',\n",
    "       '7. What social media platforms do you commonly use?':'Platforms Used',\n",
    "       '8. What is the average time you spend on social media every day?':'Time Spent',\n",
    "       '9. How often do you find yourself using Social media without a specific purpose?':'ADHD Q1',\n",
    "       '10. How often do you get distracted by Social media when you are busy doing something?':'ADHD Q2',\n",
    "       \"11. Do you feel restless if you haven't used Social media in a while?\":'Anxiety Q1',\n",
    "       '12. On a scale of 1 to 5, how easily distracted are you?':'ADHD Q3',\n",
    "       '13. On a scale of 1 to 5, how much are you bothered by worries?':'Anxiety Q2',\n",
    "       '14. Do you find it difficult to concentrate on things?':'ADHD Q4',\n",
    "       '15. On a scale of 1-5, how often do you compare yourself to other successful people through the use of social media?':'Self Esteem Q1',\n",
    "       '16. Following the previous question, how do you feel about these comparisons, generally speaking?':'Self Esteem Q2',\n",
    "       '17. How often do you look to seek validation from features of social media?':'Self Esteem Q3',\n",
    "       '18. How often do you feel depressed or down?':'Depression Q1',\n",
    "       '19. On a scale of 1 to 5, how frequently does your interest in daily activities fluctuate?':'Depression Q2',\n",
    "       '20. On a scale of 1 to 5, how often do you face issues regarding sleep?':'Depression Q3' },inplace=True)\n",
    "    return df\n"
   ]
  },
  {
   "cell_type": "code",
   "execution_count": 25,
   "id": "0a539867-6ec9-4fec-9ccf-a2f23a9d3b65",
   "metadata": {},
   "outputs": [],
   "source": [
    "# Drop functions\n",
    "\n",
    "def drop(df, col):\n",
    "    df.drop(col, axis=1, inplace=True)\n",
    "\n",
    "def dropc(df, condition_index):\n",
    "    df.drop(condition_index, inplace=True)\n",
    "\n",
    "def drops(df, cols):\n",
    "    for col in cols:\n",
    "        drop(df, col)\n",
    "    "
   ]
  },
  {
   "cell_type": "code",
   "execution_count": 26,
   "id": "ce136607-af21-4460-8db7-28f0d2e84323",
   "metadata": {},
   "outputs": [],
   "source": [
    "# Coversion functions\n",
    "\n",
    "# Converting Male: 0 and Female: 1\n",
    "def sexc(df):\n",
    "    df.loc[df['Sex'] == 'Male', 'Sex'] = 0\n",
    "    df.loc[df['Sex'] == 'Female', 'Sex'] = 1\n",
    "    df['Sex'] = df['Sex'].astype('int64')\n",
    "    return df\n",
    "    \n",
    "# Converting In a relationship: 0, Single: 1, Married: 2 and Divorced: 3\n",
    "def relstc(df):\n",
    "    df.loc[df['Relationship Status'] == 'In a relationship', 'Relationship Status'] = 0\n",
    "    df.loc[df['Relationship Status'] == 'Single', 'Relationship Status'] = 1\n",
    "    df.loc[df['Relationship Status'] == 'Married', 'Relationship Status'] = 2\n",
    "    df.loc[df['Relationship Status'] == 'Divorced', 'Relationship Status'] = 3\n",
    "    df['Relationship Status'] = df['Relationship Status'].astype('int64')\n",
    "    return df\n",
    "\n",
    "# Converting University Student: 0, School Student: 1, Salaried Worker: 2 and Retired: 3\n",
    "def occupc(df):\n",
    "    df.loc[df['Occupation'] == 'University Student', 'Occupation'] = 0\n",
    "    df.loc[df['Occupation'] == 'School Student', 'Occupation'] = 1\n",
    "    df.loc[df['Occupation'] == 'Salaried Worker', 'Occupation'] = 2\n",
    "    df.loc[df['Occupation'] == 'Retired', 'Occupation'] = 3\n",
    "    df['Occupation'] = df['Occupation'].astype('int64')\n",
    "    return df\n",
    "\n",
    "# Converting Time Spent Column into integer\n",
    "def timec(df):\n",
    "    df.loc[df['Time Spent'] == 'Less than an Hour', 'Time Spent'] = 0\n",
    "    df.loc[df['Time Spent'] == 'Between 1 and 2 hours', 'Time Spent'] = 1\n",
    "    df.loc[df['Time Spent'] == 'Between 2 and 3 hours', 'Time Spent'] = 2\n",
    "    df.loc[df['Time Spent'] == 'Between 3 and 4 hours', 'Time Spent'] = 3\n",
    "    df.loc[df['Time Spent'] == 'Between 4 and 5 hours', 'Time Spent'] = 4\n",
    "    df.loc[df['Time Spent'] == 'More than 5 hours', 'Time Spent'] = 5\n",
    "    df['Time Spent'] = df['Time Spent'].astype('int64')\n",
    "    return df\n"
   ]
  },
  {
   "cell_type": "code",
   "execution_count": 27,
   "id": "128a8876-831b-4534-b936-1d7f553b8bff",
   "metadata": {},
   "outputs": [],
   "source": [
    "# Reordering Columns function\n",
    "\n",
    "def recols(df):\n",
    "    titles = list(df.columns)\n",
    "    titles[10], titles[11] = titles[11], titles[10]\n",
    "    titles[11], titles[13] = titles[13], titles[11]\n",
    "    titles[12], titles[13] = titles[13], titles[12]\n",
    "    df = df[titles]\n",
    "    return df"
   ]
  },
  {
   "cell_type": "code",
   "execution_count": 28,
   "id": "1f4664a6-1349-4c24-8291-b119fa9dfefb",
   "metadata": {},
   "outputs": [],
   "source": [
    "# Updating grading system function\n",
    "\n",
    "def ugsys(df):\n",
    "    titles = list(df.columns)\n",
    "    questions = titles[8:]\n",
    "    for q in questions:\n",
    "        df.loc[df[q] == 3, q] = 0\n",
    "        if q == 'Self Esteem Q2':\n",
    "            df.loc[df[q] == 1, q] = 5\n",
    "            df.loc[df[q] == 2, q] = 3\n",
    "            df.loc[df[q] == 4, q] = -2\n",
    "            df.loc[df[q] == 5, q] = -4\n",
    "        else:\n",
    "            df.loc[df[q] == 1, q] = -1\n",
    "            df.loc[df[q] == 2, q] = 0\n",
    "            df.loc[df[q] == 4, q] = 3\n",
    "            \n",
    "    return df\n",
    "    "
   ]
  },
  {
   "cell_type": "code",
   "execution_count": 29,
   "id": "b1a6480d-5760-4794-ac23-defcf2ae6200",
   "metadata": {},
   "outputs": [],
   "source": [
    "# Merging ADHD, Anxiety, Self Esteem and Depression Scores, Total\n",
    "\n",
    "def merge(df):\n",
    "    ADHD = ['ADHD Q1', 'ADHD Q2', 'ADHD Q3', 'ADHD Q4']\n",
    "    df['ADHD Score'] = df[ADHD].sum(axis=1)\n",
    "    Anxiety = ['Anxiety Q1', 'Anxiety Q2']\n",
    "    df['Anxiety Score'] = df[Anxiety].sum(axis=1)\n",
    "    SelfEsteem = ['Self Esteem Q1', 'Self Esteem Q2','Self Esteem Q3']\n",
    "    df['Self Esteem Score'] = df[SelfEsteem].sum(axis=1)\n",
    "    Depression = ['Depression Q1', 'Depression Q2','Depression Q3']\n",
    "    df['Depression Score'] = df[Depression].sum(axis=1)\n",
    "    Total = ['ADHD Score', 'Anxiety Score','Self Esteem Score','Depression Score']\n",
    "    df['Total Score'] = df[Total].sum(axis=1)\n",
    "    drop(df, df.iloc[:, 8:20])\n",
    "\n",
    "    return df"
   ]
  },
  {
   "cell_type": "code",
   "execution_count": 30,
   "id": "aae80868-d086-46eb-a36a-875643d9a8bf",
   "metadata": {},
   "outputs": [],
   "source": [
    "# Outcome creation function\n",
    "\n",
    "def ocf(df):\n",
    "    def score(s):\n",
    "      if s < 22.5:\n",
    "        return \"0\"\n",
    "      elif s >= 22.5:\n",
    "        return \"1\"\n",
    "    \n",
    "    df['Outcome']= df['Total Score'].apply(lambda e: score(e))\n",
    "    df['Outcome'] = df['Outcome'].astype('int64')\n",
    "\n",
    "    return df"
   ]
  },
  {
   "cell_type": "code",
   "execution_count": 31,
   "id": "6a77c360-24cf-4bb5-ad80-9bfa2e5e3251",
   "metadata": {},
   "outputs": [],
   "source": [
    "# Data refining and processing, updating grading system function (Initial)\n",
    "\n",
    "def irefine(data):\n",
    "    df = pd.read_csv(data)\n",
    "    drop(df, 'Timestamp')\n",
    "    ldropli = ['Age', 'Sex', 'Affiliations', 'Occupation', 'Relationship Status', 'Platforms Used', 'Social Media User?', 'Total Score'] # Columns to drop later\n",
    "    df = rename(df)\n",
    "    df['Age'] = df['Age'].astype('int64')\n",
    "    dropc(df, df.loc[(df['Sex'] != 'Male') & (df['Sex'] != 'Female')].index)\n",
    "    fns = [sexc, recols, timec, ugsys, merge, ocf, relstc, occupc]\n",
    "    for e in fns:\n",
    "        df = e(df)\n",
    "    drops(df, ldropli)\n",
    "\n",
    "    return df"
   ]
  },
  {
   "cell_type": "code",
   "execution_count": 32,
   "id": "608669b6-6923-481d-86d9-84989b66496e",
   "metadata": {},
   "outputs": [],
   "source": [
    "# Model: Decided to go with Neural Nets for my front-end\n",
    "# Other valid options maybe SVC or FNN\n",
    "\n",
    "def model(df):\n",
    "\n",
    "    # Split data into training data, and testing data\n",
    "    X = df.drop(['Outcome'], axis = 1)\n",
    "    y = df['Outcome']\n",
    "    X_train, X_test, y_train, y_test = train_test_split(X, y , test_size=0.2 ,random_state=16)\n",
    "    clf = MLPClassifier(solver='lbfgs', alpha=1e-5, hidden_layer_sizes=(5120, 16), random_state=16)\n",
    "    clf.fit(X_train, y_train)\n",
    "    y_pred = clf.predict(X_test)\n",
    "    accuracy = accuracy_score(y_test, y_pred)\n",
    "    return clf, accuracy"
   ]
  },
  {
   "cell_type": "code",
   "execution_count": 33,
   "id": "bd658433-e7d5-47c7-a2b3-30324b361342",
   "metadata": {},
   "outputs": [
    {
     "name": "stdout",
     "output_type": "stream",
     "text": [
      "0.9894736842105263\n"
     ]
    }
   ],
   "source": [
    "# Run\n",
    "\n",
    "data = \"dataset.csv\"\n",
    "df = irefine(data)\n",
    "tmodel, accuracy = model(df)\n",
    "joblib.dump(tmodel, \"model.pkl\")\n",
    "print(accuracy)"
   ]
  }
 ],
 "metadata": {
  "kernelspec": {
   "display_name": "Python 3 (ipykernel)",
   "language": "python",
   "name": "python3"
  },
  "language_info": {
   "codemirror_mode": {
    "name": "ipython",
    "version": 3
   },
   "file_extension": ".py",
   "mimetype": "text/x-python",
   "name": "python",
   "nbconvert_exporter": "python",
   "pygments_lexer": "ipython3",
   "version": "3.11.9"
  }
 },
 "nbformat": 4,
 "nbformat_minor": 5
}
